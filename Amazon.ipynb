{
  "nbformat": 4,
  "nbformat_minor": 0,
  "metadata": {
    "colab": {
      "provenance": [],
      "authorship_tag": "ABX9TyPUO5hX78Mvwgueo5xeX4Ck",
      "include_colab_link": true
    },
    "kernelspec": {
      "name": "python3",
      "display_name": "Python 3"
    },
    "language_info": {
      "name": "python"
    }
  },
  "cells": [
    {
      "cell_type": "markdown",
      "metadata": {
        "id": "view-in-github",
        "colab_type": "text"
      },
      "source": [
        "<a href=\"https://colab.research.google.com/github/GDharan10/Amazon-data-analysis/blob/main/Amazon.ipynb\" target=\"_parent\"><img src=\"https://colab.research.google.com/assets/colab-badge.svg\" alt=\"Open In Colab\"/></a>"
      ]
    },
    {
      "cell_type": "code",
      "source": [
        "from bs4 import BeautifulSoup\n",
        "import requests\n"
      ],
      "metadata": {
        "id": "-azFtwIQM1Zv"
      },
      "execution_count": null,
      "outputs": []
    },
    {
      "cell_type": "code",
      "source": [
        "URL = \"https://www.amazon.in/Redmi-Arctic-Storage-Dimensity-Slimmest/dp/B0CQPGG8KG/ref=sr_1_1_sspa?crid=2VXRPFG0ABE1T&dib=eyJ2IjoiMSJ9.xWh_VuhE19114cMQ_dFkjXSDyEkg3u0p0HLGy69yjS2ENMPKehjIpW7p6Za_IaUXnsRQ47DXK-CO2RGqEOp0xBvVTTjlOC6snAp19o_LKZbNpKpO0DUNbjHlZZPCJB1PAspFUmpsrIgKdyx-9JXubcbhS1io06dQKVurhMbg-_ICKp23_AMU-1ptajtDGgeUuRe1dygczzJHJxqwsBkOEtDsCf3TaaxTc0AKbqlo7KU.8QDWZ1CBg1LZ3rl6lQSSa7cATOEzCPsLnxBQdhXiOH8&dib_tag=se&keywords=samsung%2Bm30s&qid=1710226040&sprefix=samsund%2Bm30s%2Caps%2C227&sr=8-1-spons&sp_csd=d2lkZ2V0TmFtZT1zcF9hdGY&th=1\"\n",
        "\n",
        "#Find Your User-Agent: https://httpbin.org/get\n",
        "headers = {\"User-Agent\": \"Mozilla/5.0 (Windows NT 10.0; Win64; x64) AppleWebKit/537.36 (KHTML, like Gecko) Chrome/78.0.3904.108 Safari/537.36\", \"Accept-Encoding\":\"gzip, deflate\", \"Accept\":\"text/html,application/xhtml+xml,application/xml;q=0.9,*/*;q=0.8\", \"DNT\":\"1\",\"Connection\":\"close\", \"Upgrade-Insecure-Requests\":\"1\"}\n",
        "\n",
        "page = requests.get(URL, headers=headers)\n",
        "\n",
        "soup1 = BeautifulSoup(page.content, \"html.parser\")\n",
        "\n",
        "soup2 = BeautifulSoup(soup1.prettify(), \"html.parser\")\n",
        "\n",
        "title = soup2.find(id='productTitle').get_text()\n",
        "\n",
        "price = soup2.find(class_ ='a-price-whole').get_text()\n",
        "\n",
        "#review_count = soup2.find(data-hook ='total-review-count').get_text()\n",
        "review_count = soup2.find(attrs={\"data-hook\": \"total-review-count\"}).get_text()\n",
        "\n",
        "\n",
        "#review = soup2.find(class_ ='a-row cm_cr_grid_center_container').get_text()\n",
        "\n",
        "print(title)\n",
        "print(price)\n",
        "print(review_count)"
      ],
      "metadata": {
        "colab": {
          "base_uri": "https://localhost:8080/"
        },
        "id": "aZsajEt7NEQV",
        "outputId": "21d4a155-6acd-4ab7-93a0-4b869b22beb0"
      },
      "execution_count": null,
      "outputs": [
        {
          "output_type": "stream",
          "name": "stdout",
          "text": [
            "\n",
            "              Redmi Note 13 5G (Arctic White, 6GB RAM, 128GB Storage) | MTK Dimensity 6080 5G | 7.6mm, Slimmest Note Ever\n",
            "             \n",
            "\n",
            "                                  17,999\n",
            "                                  \n",
            "                                   .\n",
            "                                  \n",
            "\n",
            "\n",
            "                        1,503 global ratings\n",
            "                       \n"
          ]
        }
      ]
    },
    {
      "cell_type": "code",
      "source": [],
      "metadata": {
        "id": "fBIWjlhwO4Rv"
      },
      "execution_count": null,
      "outputs": []
    }
  ]
}